{
 "cells": [
  {
   "cell_type": "code",
   "execution_count": 1,
   "id": "fa67df8c",
   "metadata": {},
   "outputs": [],
   "source": [
    "import pandas as pd"
   ]
  },
  {
   "cell_type": "code",
   "execution_count": 2,
   "id": "84aff4a3",
   "metadata": {},
   "outputs": [],
   "source": [
    "dataset=pd.read_csv('IPL.csv')"
   ]
  },
  {
   "cell_type": "code",
   "execution_count": 3,
   "id": "e8766e37",
   "metadata": {},
   "outputs": [],
   "source": [
    "dataset.drop(columns=['Unnamed: 0'],axis=1,inplace=True)"
   ]
  },
  {
   "cell_type": "code",
   "execution_count": 4,
   "id": "c18f0c80",
   "metadata": {},
   "outputs": [
    {
     "data": {
      "text/plain": [
       "dtype('int64')"
      ]
     },
     "execution_count": 4,
     "metadata": {},
     "output_type": "execute_result"
    }
   ],
   "source": [
    "dataset['p_out'].dtype"
   ]
  },
  {
   "cell_type": "code",
   "execution_count": 5,
   "id": "7a2222ed",
   "metadata": {},
   "outputs": [],
   "source": [
    "shubman=dataset[(dataset['bat']=='Shubman Gill') | (dataset['p_out']==1070173)]"
   ]
  },
  {
   "cell_type": "code",
   "execution_count": 6,
   "id": "ab05eb76",
   "metadata": {},
   "outputs": [],
   "source": [
    "shubman.to_csv('ShubmanGill-IPL.csv')"
   ]
  },
  {
   "cell_type": "code",
   "execution_count": null,
   "id": "e1ec1fc7",
   "metadata": {},
   "outputs": [],
   "source": []
  }
 ],
 "metadata": {
  "kernelspec": {
   "display_name": "Python 3 (ipykernel)",
   "language": "python",
   "name": "python3"
  },
  "language_info": {
   "codemirror_mode": {
    "name": "ipython",
    "version": 3
   },
   "file_extension": ".py",
   "mimetype": "text/x-python",
   "name": "python",
   "nbconvert_exporter": "python",
   "pygments_lexer": "ipython3",
   "version": "3.11.1"
  }
 },
 "nbformat": 4,
 "nbformat_minor": 5
}
