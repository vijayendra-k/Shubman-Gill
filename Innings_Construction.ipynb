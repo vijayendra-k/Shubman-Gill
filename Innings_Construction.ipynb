{
 "cells": [
  {
   "cell_type": "code",
   "execution_count": 1,
   "id": "3fc8eea6",
   "metadata": {},
   "outputs": [],
   "source": [
    "# import pandas as pd\n",
    "from pyspark.sql import SparkSession\n",
    "from pyspark.sql.functions import col, to_date\n",
    "from pyspark.sql.window import Window\n",
    "from pyspark.sql.functions import sum as _sum"
   ]
  },
  {
   "cell_type": "code",
   "execution_count": null,
   "id": "41472c04",
   "metadata": {},
   "outputs": [],
   "source": [
    "spark = SparkSession.builder \\\n",
    "    .appName(\"CumulativeSumExample\") \\\n",
    "    .getOrCreate()"
   ]
  },
  {
   "cell_type": "code",
   "execution_count": null,
   "id": "8abc12cb",
   "metadata": {},
   "outputs": [],
   "source": [
    "dataset=pd.read_csv('filtered_ShubmanGill.csv')"
   ]
  },
  {
   "cell_type": "code",
   "execution_count": null,
   "id": "fd2f51e9",
   "metadata": {},
   "outputs": [],
   "source": [
    "numeric_columns=['inns_number','ball','outs','over','noball','wide','year','runs','balls','outs','dots','1s','2s','3s','4s','5s','6s','control','bowler_dismissed?','dots']\n",
    "for i in numeric_columns:\n",
    "    dataset[i].astype(int)\n",
    "    \n",
    "dataset['ball_id'].astype(float)"
   ]
  },
  {
   "cell_type": "code",
   "execution_count": null,
   "id": "0f43802d",
   "metadata": {},
   "outputs": [],
   "source": [
    "dataset['date']=pd.to_datetime(dataset['date'])"
   ]
  },
  {
   "cell_type": "code",
   "execution_count": null,
   "id": "e4724b55",
   "metadata": {},
   "outputs": [],
   "source": [
    "dataset=dataset.sort_values(by=['date','ball_id'])"
   ]
  },
  {
   "cell_type": "code",
   "execution_count": null,
   "id": "935bedc8",
   "metadata": {},
   "outputs": [],
   "source": [
    "dataset.groupby(['date','over','ball']).cumsum()"
   ]
  },
  {
   "cell_type": "code",
   "execution_count": null,
   "id": "ccb6aee8",
   "metadata": {},
   "outputs": [],
   "source": [
    "numeric_cols=dataset.groupby(['date'])['runs','balls','outs','dots','1s','2s','3s','4s','5s','6s','control'].cumsum()\n",
    "nonnumeric_cols=dataset[['date','team','inns_number','opposition','ground','dismissal']]"
   ]
  },
  {
   "cell_type": "code",
   "execution_count": null,
   "id": "7bcf0855",
   "metadata": {},
   "outputs": [],
   "source": [
    "cumulativedataset=pd.concat([nonnumeric_cols,numeric_cols],axis=1)"
   ]
  },
  {
   "cell_type": "code",
   "execution_count": null,
   "id": "f5e2b77a",
   "metadata": {},
   "outputs": [],
   "source": [
    "cumulativedataset"
   ]
  },
  {
   "cell_type": "code",
   "execution_count": null,
   "id": "5400fb5b",
   "metadata": {},
   "outputs": [],
   "source": [
    "cumulativedataset['SR']=round(cumulativedataset['runs']*100/cumulativedataset['balls'],2)\n",
    "cumulativedataset['Control%']=round(cumulativedataset['control']*100/cumulativedataset['balls'],2)\n",
    "cumulativedataset.drop(['control'],axis=1,inplace=True)"
   ]
  },
  {
   "cell_type": "code",
   "execution_count": null,
   "id": "15313f22",
   "metadata": {},
   "outputs": [],
   "source": [
    "transformdataset=cumulativedataset[['date','team','inns_number','opposition','ground','runs','balls','outs']]"
   ]
  },
  {
   "cell_type": "code",
   "execution_count": null,
   "id": "3df541bd",
   "metadata": {},
   "outputs": [],
   "source": [
    "transformdataset.set_index(['balls'],inplace=True)\n",
    "transformdataset"
   ]
  },
  {
   "cell_type": "code",
   "execution_count": null,
   "id": "9d86726d",
   "metadata": {},
   "outputs": [],
   "source": [
    "transformdataset=transformdataset.T\n",
    "transformdataset"
   ]
  },
  {
   "cell_type": "code",
   "execution_count": null,
   "id": "a8404224",
   "metadata": {},
   "outputs": [],
   "source": [
    "grouped_df = cumulativedataset.groupby(['date','team','inns_number','opposition','ground','balls'])['runs'].sum().reset_index()\n",
    "pivot_df = grouped_df.pivot(index='date', columns='balls', values='runs')\n",
    "pivot_df = pivot_df.reindex(sorted(pivot_df.columns), axis=1)"
   ]
  },
  {
   "cell_type": "code",
   "execution_count": null,
   "id": "256de80f",
   "metadata": {},
   "outputs": [],
   "source": [
    "pivot_df"
   ]
  },
  {
   "cell_type": "code",
   "execution_count": null,
   "id": "2236dc45",
   "metadata": {},
   "outputs": [],
   "source": [
    "grouped_df.head(56\n",
    "            )"
   ]
  },
  {
   "cell_type": "code",
   "execution_count": null,
   "id": "8f9a2e7e",
   "metadata": {},
   "outputs": [],
   "source": []
  }
 ],
 "metadata": {
  "kernelspec": {
   "display_name": "Python 3 (ipykernel)",
   "language": "python",
   "name": "python3"
  },
  "language_info": {
   "codemirror_mode": {
    "name": "ipython",
    "version": 3
   },
   "file_extension": ".py",
   "mimetype": "text/x-python",
   "name": "python",
   "nbconvert_exporter": "python",
   "pygments_lexer": "ipython3",
   "version": "3.11.1"
  }
 },
 "nbformat": 4,
 "nbformat_minor": 5
}
