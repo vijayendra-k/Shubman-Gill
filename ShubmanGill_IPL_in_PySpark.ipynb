{
  "nbformat": 4,
  "nbformat_minor": 0,
  "metadata": {
    "colab": {
      "provenance": []
    },
    "kernelspec": {
      "name": "python3",
      "display_name": "Python 3"
    },
    "language_info": {
      "name": "python"
    }
  },
  "cells": [
    {
      "cell_type": "code",
      "execution_count": 1,
      "metadata": {
        "colab": {
          "base_uri": "https://localhost:8080/"
        },
        "id": "3et88_JRl6mg",
        "outputId": "d8327b25-f4b1-4f6c-e3fd-3d9acd4c3d30"
      },
      "outputs": [
        {
          "output_type": "stream",
          "name": "stdout",
          "text": [
            "Collecting pyspark\n",
            "  Downloading pyspark-3.5.3.tar.gz (317.3 MB)\n",
            "\u001b[2K     \u001b[90m━━━━━━━━━━━━━━━━━━━━━━━━━━━━━━━━━━━━━━━━\u001b[0m \u001b[32m317.3/317.3 MB\u001b[0m \u001b[31m1.5 MB/s\u001b[0m eta \u001b[36m0:00:00\u001b[0m\n",
            "\u001b[?25h  Preparing metadata (setup.py) ... \u001b[?25l\u001b[?25hdone\n",
            "Requirement already satisfied: py4j==0.10.9.7 in /usr/local/lib/python3.10/dist-packages (from pyspark) (0.10.9.7)\n",
            "Building wheels for collected packages: pyspark\n",
            "  Building wheel for pyspark (setup.py) ... \u001b[?25l\u001b[?25hdone\n",
            "  Created wheel for pyspark: filename=pyspark-3.5.3-py2.py3-none-any.whl size=317840625 sha256=ba86cd37c0e2b6a19aef838f21147e3aac5821bc201b7578e14a8bbce4f766d9\n",
            "  Stored in directory: /root/.cache/pip/wheels/1b/3a/92/28b93e2fbfdbb07509ca4d6f50c5e407f48dce4ddbda69a4ab\n",
            "Successfully built pyspark\n",
            "Installing collected packages: pyspark\n",
            "Successfully installed pyspark-3.5.3\n"
          ]
        }
      ],
      "source": [
        "!pip install pyspark\n",
        "from pyspark.sql import SparkSession"
      ]
    },
    {
      "cell_type": "code",
      "source": [
        "spark = SparkSession.builder \\\n",
        "    .appName(\"ShubmanGill-IPL\") \\\n",
        "    .getOrCreate()"
      ],
      "metadata": {
        "id": "YCS_HhyNmnxk"
      },
      "execution_count": 2,
      "outputs": []
    },
    {
      "cell_type": "code",
      "source": [
        "df=spark.read.csv('ShubmanGill-IPL.csv',header=True,inferSchema=True)"
      ],
      "metadata": {
        "id": "XDUhbUBsnJEB"
      },
      "execution_count": 3,
      "outputs": []
    },
    {
      "cell_type": "code",
      "source": [
        "df.show()"
      ],
      "metadata": {
        "colab": {
          "base_uri": "https://localhost:8080/"
        },
        "id": "RM8YyrrMniMI",
        "outputId": "6bbfafc4-4ba9-43bd-bdd6-c7495167f647"
      },
      "execution_count": 6,
      "outputs": [
        {
          "output_type": "stream",
          "name": "stdout",
          "text": [
            "+----+-------+----+------------+-------+--------------------+--------------+------+--------------+----+-------+-------+-----+-----+---------+-------+----+------+----+----+-------+------------+----------+------------+-------------+-------------+---------+---------+----------+-------------+--------------+-------+--------+------+---------+----------+----+--------------------+-------+--------------------+--------------------+-----------+--------+----------+-----------+-------+---------+--------+-------+------+------+---------+----------------+--------------------+-----------+-------+---------+-----+\n",
            "| _c0|p_match|inns|         bat|  p_bat|            team_bat|          bowl|p_bowl|     team_bowl|ball|ball_id|outcome|score|  out|dismissal|  p_out|over|noball|wide|byes|legbyes|cur_bat_runs|cur_bat_bf|cur_bowl_ovr|cur_bowl_wkts|cur_bowl_runs|inns_runs|inns_wkts|inns_balls|inns_runs_rem|inns_balls_rem|inns_rr|inns_rrr|target|max_balls|      date|year|              ground|country|              winner|                toss|competition|bat_hand|bowl_style|  bowl_kind|batruns|ballfaced|bowlruns|bat_out|wagonX|wagonY|wagonZone|            line|              length|       shot|control|predscore|wprob|\n",
            "+----+-------+----+------------+-------+--------------------+--------------+------+--------------+----+-------+-------+-----+-----+---------+-------+----+------+----+----+-------+------------+----------+------------+-------------+-------------+---------+---------+----------+-------------+--------------+-------+--------+------+---------+----------+----+--------------------+-------+--------------------+--------------------+-----------+--------+----------+-----------+-------+---------+--------+-------+------+------+---------+----------------+--------------------+-----------+-------+---------+-----+\n",
            "| 898|1178422|   1|Shubman Gill|1070173|Kolkata Knight Ri...|Lasith Malinga| 49758|Mumbai Indians|   1|   2.01|    run|    1|false|     NULL|1070173|   3|     0|   0|   0|      0|          16|         8|         0.1|            0|            1|       17|        0|        13|         NULL|           107|   7.84|    NULL|  NULL|      120|2019-04-28|2019|Eden Gardens, Kol...|  India|Kolkata Knight Ri...|      Mumbai Indians|        IPL|     RHB|        RF|pace bowler|      1|        1|       1|   true|   202|   219|        4|OUTSIDE_OFFSTUMP|                FULL|       PUSH|    1.0|      165|46.47|\n",
            "| 899|1178422|   1|Shubman Gill|1070173|Kolkata Knight Ri...|Lasith Malinga| 49758|Mumbai Indians|   4|   2.04| no run|    0|false|     NULL|1070173|   3|     0|   0|   0|      0|          16|         9|         0.4|            0|            2|       18|        0|        16|         NULL|           104|   6.75|    NULL|  NULL|      120|2019-04-28|2019|Eden Gardens, Kol...|  India|Kolkata Knight Ri...|      Mumbai Indians|        IPL|     RHB|        RF|pace bowler|      0|        1|       0|   true|   154|   224|        5|OUTSIDE_OFFSTUMP|                FULL|   ON_DRIVE|    1.0|      162|43.17|\n",
            "| 900|1178422|   1|Shubman Gill|1070173|Kolkata Knight Ri...|Lasith Malinga| 49758|Mumbai Indians|   5|   2.05| no run|    0|false|     NULL|1070173|   3|     0|   0|   0|      0|          16|        10|         0.5|            0|            2|       18|        0|        17|         NULL|           103|   6.35|    NULL|  NULL|      120|2019-04-28|2019|Eden Gardens, Kol...|  India|Kolkata Knight Ri...|      Mumbai Indians|        IPL|     RHB|        RF|pace bowler|      0|        1|       0|   true|   221|   193|        3|   ON_THE_STUMPS|         GOOD_LENGTH|      FLICK|    1.0|      160|41.01|\n",
            "| 901|1178422|   1|Shubman Gill|1070173|Kolkata Knight Ri...|Lasith Malinga| 49758|Mumbai Indians|   6|   2.06|    run|    1|false|     NULL|1070173|   3|     0|   0|   0|      0|          17|        11|         1.0|            0|            3|       19|        0|        18|         NULL|           102|   6.33|    NULL|  NULL|      120|2019-04-28|2019|Eden Gardens, Kol...|  India|Kolkata Knight Ri...|      Mumbai Indians|        IPL|     RHB|        RF|pace bowler|      1|        1|       1|   true|   136|   209|        5|OUTSIDE_OFFSTUMP|                FULL|COVER_DRIVE|    1.0|      159|39.94|\n",
            "| 902|1178422|   1|Shubman Gill|1070173|Kolkata Knight Ri...|Lasith Malinga| 49758|Mumbai Indians|   1|   5.01|    run|    1|false|     NULL|1070173|   6|     0|   0|   0|      0|          22|        16|         1.1|            0|            4|       40|        0|        31|         NULL|            89|   7.74|    NULL|  NULL|      120|2019-04-28|2019|Eden Gardens, Kol...|  India|Kolkata Knight Ri...|      Mumbai Indians|        IPL|     RHB|        RF|pace bowler|      1|        1|       1|   true|   324|   135|        2|   ON_THE_STUMPS|         GOOD_LENGTH|      FLICK|    1.0|      166|47.58|\n",
            "| 903|1178422|   1|Shubman Gill|1070173|Kolkata Knight Ri...|Lasith Malinga| 49758|Mumbai Indians|   4|   5.04|   four|    4|false|     NULL|1070173|   6|     0|   0|   0|      0|          26|        17|         1.4|            0|            9|       45|        0|        34|         NULL|            86|   7.94|    NULL|  NULL|      120|2019-04-28|2019|Eden Gardens, Kol...|  India|Kolkata Knight Ri...|      Mumbai Indians|        IPL|     RHB|        RF|pace bowler|      4|        1|       4|   true|   360|   109|        2|   ON_THE_STUMPS|           FULL_TOSS|      FLICK|    1.0|      167|48.69|\n",
            "| 904|1178422|   1|Shubman Gill|1070173|Kolkata Knight Ri...|Lasith Malinga| 49758|Mumbai Indians|   5|   5.05|    run|    1|false|     NULL|1070173|   6|     0|   0|   0|      0|          27|        18|         1.5|            0|           10|       46|        0|        35|         NULL|            85|   7.88|    NULL|  NULL|      120|2019-04-28|2019|Eden Gardens, Kol...|  India|Kolkata Knight Ri...|      Mumbai Indians|        IPL|     RHB|        RF|pace bowler|      1|        1|       1|   true|   125|   141|        7|OUTSIDE_OFFSTUMP|         GOOD_LENGTH|        DAB|    1.0|      167|48.69|\n",
            "| 905|1178422|   1|Shubman Gill|1070173|Kolkata Knight Ri...|Lasith Malinga| 49758|Mumbai Indians|   1|  14.01|   four|    4|false|     NULL|1070173|  15|     0|   0|   0|      0|          71|        42|         2.1|            0|           18|      147|        1|        85|         NULL|            35|  10.37|    NULL|  NULL|      120|2019-04-28|2019|Eden Gardens, Kol...|  India|Kolkata Knight Ri...|      Mumbai Indians|        IPL|     RHB|        RF|pace bowler|      4|        1|       4|   true|   118|   350|        5|OUTSIDE_OFFSTUMP|         GOOD_LENGTH|   ON_DRIVE|    1.0|      205|83.77|\n",
            "| 906|1178422|   1|Shubman Gill|1070173|Kolkata Knight Ri...|Lasith Malinga| 49758|Mumbai Indians|   2|  14.02|   four|    4|false|     NULL|1070173|  15|     0|   0|   0|      0|          75|        43|         2.2|            0|           22|      151|        1|        86|         NULL|            34|  10.53|    NULL|  NULL|      120|2019-04-28|2019|Eden Gardens, Kol...|  India|Kolkata Knight Ri...|      Mumbai Indians|        IPL|     RHB|        RF|pace bowler|      4|        1|       4|   true|   241|    14|        1|   ON_THE_STUMPS|                FULL| LEG_GLANCE|    1.0|      208|85.49|\n",
            "| 907|1178422|   1|Shubman Gill|1070173|Kolkata Knight Ri...|Lasith Malinga| 49758|Mumbai Indians|   3|  14.03|    run|    1|false|     NULL|1070173|  15|     0|   0|   0|      0|          76|        44|         2.3|            0|           23|      152|        1|        87|         NULL|            33|  10.48|    NULL|  NULL|      120|2019-04-28|2019|Eden Gardens, Kol...|  India|Kolkata Knight Ri...|      Mumbai Indians|        IPL|     RHB|        RF|pace bowler|      1|        1|       1|   true|   298|   247|        3|   ON_THE_STUMPS|                FULL|      FLICK|    1.0|      207|84.94|\n",
            "| 908|1178431|   1|Shubman Gill|1070173|Kolkata Knight Ri...|Lasith Malinga| 49758|Mumbai Indians|   1|   3.01|    run|    2|false|     NULL|1070173|   4|     0|   0|   0|      0|           7|        10|         0.1|            0|            2|       17|        0|        19|         NULL|           101|   5.36|    NULL|  NULL|      120|2019-05-05|2019|Wankhede Stadium,...|  India|      Mumbai Indians|      Mumbai Indians|        IPL|     RHB|        RF|pace bowler|      2|        1|       2|   true|   308|    89|        2|OUTSIDE_OFFSTUMP|SHORT_OF_A_GOOD_L...|       PULL|    1.0|      159|39.88|\n",
            "| 909|1178431|   1|Shubman Gill|1070173|Kolkata Knight Ri...|Lasith Malinga| 49758|Mumbai Indians|   2|   3.02|    run|    1|false|     NULL|1070173|   4|     0|   0|   0|      0|           8|        11|         0.2|            0|            3|       18|        0|        20|         NULL|           100|    5.4|    NULL|  NULL|      120|2019-05-05|2019|Wankhede Stadium,...|  India|      Mumbai Indians|      Mumbai Indians|        IPL|     RHB|        RF|pace bowler|      1|        1|       1|   true|   283|   246|        3|OUTSIDE_OFFSTUMP|                FULL|      FLICK|    1.0|      159|39.88|\n",
            "|4731|1136578|   1|Shubman Gill|1070173|Kolkata Knight Ri...|    Andrew Tye|459508|  Punjab Kings|   5|  19.05|    run|    1|false|     NULL|1070173|  20|     0|   0|   0|      0|          13|         7|         3.4|            2|           28|      189|        7|       118|         NULL|             0|   9.61|    NULL|  NULL|        0|2018-04-21|2018|Eden Gardens, Kol...|  India|     Kings XI Punjab|     Kings XI Punjab|        IPL|     RHB|       RMF|pace bowler|      1|        1|       1|   true|   224|   311|        4|   ON_THE_STUMPS|                FULL|   ON_DRIVE|    1.0|      193|78.36|\n",
            "|4732|1136578|   1|Shubman Gill|1070173|Kolkata Knight Ri...|    Andrew Tye|459508|  Punjab Kings|   7|  19.07|    run|    1|false|     NULL|1070173|  20|     0|   0|   0|      0|          14|         8|         4.0|            2|           30|      191|        7|       120|         NULL|             0|   9.55|    NULL|  NULL|        0|2018-04-21|2018|Eden Gardens, Kol...|  India|     Kings XI Punjab|     Kings XI Punjab|        IPL|     RHB|       RMF|pace bowler|      1|        1|       1|   true|   124|   197|        6|   ON_THE_STUMPS|         GOOD_LENGTH|COVER_DRIVE|    1.0|      191|76.76|\n",
            "|4733|1136604|   1|Shubman Gill|1070173|Kolkata Knight Ri...|    Andrew Tye|459508|  Punjab Kings|   1|  18.01|   four|    4|false|     NULL|1070173|  19|     0|   0|   0|      0|           4|         1|         3.1|            4|           38|      226|        5|       109|         NULL|            11|  12.44|    NULL|  NULL|      120|2018-05-12|2018|Holkar Cricket St...|  India|Kolkata Knight Ri...|     Kings XI Punjab|        IPL|     RHB|       RMF|pace bowler|      4|        1|       4|   true|   104|    15|        8|   ON_THE_STUMPS|         GOOD_LENGTH|   ON_DRIVE|    0.0|      247|97.44|\n",
            "|4734|1136604|   1|Shubman Gill|1070173|Kolkata Knight Ri...|    Andrew Tye|459508|  Punjab Kings|   2|  18.02| no run|    0|false|     NULL|1070173|  19|     0|   0|   0|      0|           4|         2|         3.2|            4|           38|      226|        5|       110|         NULL|            10|  12.32|    NULL|  NULL|      120|2018-05-12|2018|Holkar Cricket St...|  India|Kolkata Knight Ri...|     Kings XI Punjab|        IPL|     RHB|       RMF|pace bowler|      0|        1|       0|   true|   172|   192|        5|   ON_THE_STUMPS|         GOOD_LENGTH|   DEFENDED|    1.0|      246|97.33|\n",
            "|4735|1136604|   1|Shubman Gill|1070173|Kolkata Knight Ri...|    Andrew Tye|459508|  Punjab Kings|   3|  18.03|    run|    1|false|     NULL|1070173|  19|     0|   0|   0|      0|           5|         3|         3.3|            4|           39|      227|        5|       111|         NULL|             9|  12.27|    NULL|  NULL|      120|2018-05-12|2018|Holkar Cricket St...|  India|Kolkata Knight Ri...|     Kings XI Punjab|        IPL|     RHB|       RMF|pace bowler|      1|        1|       1|   true|   234|   276|        4|   ON_THE_STUMPS|           FULL_TOSS|   ON_DRIVE|    1.0|      245|97.21|\n",
            "|4736|1136604|   1|Shubman Gill|1070173|Kolkata Knight Ri...|    Andrew Tye|459508|  Punjab Kings|   6|  18.06|    run|    1|false|     NULL|1070173|  19|     0|   0|   0|      0|           6|         4|         4.0|            4|           41|      229|        5|       114|         NULL|             6|  12.05|    NULL|  NULL|      120|2018-05-12|2018|Holkar Cricket St...|  India|Kolkata Knight Ri...|     Kings XI Punjab|        IPL|     RHB|       RMF|pace bowler|      1|        1|       1|   true|   124|   230|        5|OUTSIDE_OFFSTUMP|           FULL_TOSS|COVER_DRIVE|    1.0|      241|96.69|\n",
            "|4737|1178427|   2|Shubman Gill|1070173|Kolkata Knight Ri...|    Andrew Tye|459508|  Punjab Kings|   1|   5.01|   four|    4|false|     NULL|1070173|   6|     0|   0|   0|      0|          14|        12|         0.1|            0|            4|       51|        0|        31|        133.0|            89|   9.87|    8.96| 184.0|      120|2019-05-03|2019|Punjab Cricket As...|  India|Kolkata Knight Ri...|Kolkata Knight Ri...|        IPL|     RHB|       RMF|pace bowler|      4|        1|       4|   true|   322|    67|        2|   ON_THE_STUMPS|SHORT_OF_A_GOOD_L...|      FLICK|    1.0|      184|55.18|\n",
            "|4738|1178427|   2|Shubman Gill|1070173|Kolkata Knight Ri...|    Andrew Tye|459508|  Punjab Kings|   2|   5.02| no run|    0|false|     NULL|1070173|   6|     0|   0|   0|      0|          14|        13|         0.2|            0|            4|       51|        0|        32|        133.0|            88|   9.56|    9.06| 184.0|      120|2019-05-03|2019|Punjab Cricket As...|  India|Kolkata Knight Ri...|Kolkata Knight Ri...|        IPL|     RHB|       RMF|pace bowler|      0|        1|       0|   true|   138|   147|        7|OUTSIDE_OFFSTUMP|         GOOD_LENGTH|    STEERED|    1.0|      184| 54.5|\n",
            "+----+-------+----+------------+-------+--------------------+--------------+------+--------------+----+-------+-------+-----+-----+---------+-------+----+------+----+----+-------+------------+----------+------------+-------------+-------------+---------+---------+----------+-------------+--------------+-------+--------+------+---------+----------+----+--------------------+-------+--------------------+--------------------+-----------+--------+----------+-----------+-------+---------+--------+-------+------+------+---------+----------------+--------------------+-----------+-------+---------+-----+\n",
            "only showing top 20 rows\n",
            "\n"
          ]
        }
      ]
    },
    {
      "cell_type": "code",
      "source": [
        "df.columns"
      ],
      "metadata": {
        "id": "UsG5eH5KnqHE",
        "colab": {
          "base_uri": "https://localhost:8080/"
        },
        "outputId": "d59bf59a-b91b-4f60-a409-b1847f9a7fd9"
      },
      "execution_count": 7,
      "outputs": [
        {
          "output_type": "execute_result",
          "data": {
            "text/plain": [
              "['_c0',\n",
              " 'p_match',\n",
              " 'inns',\n",
              " 'bat',\n",
              " 'p_bat',\n",
              " 'team_bat',\n",
              " 'bowl',\n",
              " 'p_bowl',\n",
              " 'team_bowl',\n",
              " 'ball',\n",
              " 'ball_id',\n",
              " 'outcome',\n",
              " 'score',\n",
              " 'out',\n",
              " 'dismissal',\n",
              " 'p_out',\n",
              " 'over',\n",
              " 'noball',\n",
              " 'wide',\n",
              " 'byes',\n",
              " 'legbyes',\n",
              " 'cur_bat_runs',\n",
              " 'cur_bat_bf',\n",
              " 'cur_bowl_ovr',\n",
              " 'cur_bowl_wkts',\n",
              " 'cur_bowl_runs',\n",
              " 'inns_runs',\n",
              " 'inns_wkts',\n",
              " 'inns_balls',\n",
              " 'inns_runs_rem',\n",
              " 'inns_balls_rem',\n",
              " 'inns_rr',\n",
              " 'inns_rrr',\n",
              " 'target',\n",
              " 'max_balls',\n",
              " 'date',\n",
              " 'year',\n",
              " 'ground',\n",
              " 'country',\n",
              " 'winner',\n",
              " 'toss',\n",
              " 'competition',\n",
              " 'bat_hand',\n",
              " 'bowl_style',\n",
              " 'bowl_kind',\n",
              " 'batruns',\n",
              " 'ballfaced',\n",
              " 'bowlruns',\n",
              " 'bat_out',\n",
              " 'wagonX',\n",
              " 'wagonY',\n",
              " 'wagonZone',\n",
              " 'line',\n",
              " 'length',\n",
              " 'shot',\n",
              " 'control',\n",
              " 'predscore',\n",
              " 'wprob']"
            ]
          },
          "metadata": {},
          "execution_count": 7
        }
      ]
    },
    {
      "cell_type": "code",
      "source": [
        "df=df.drop('_c0')"
      ],
      "metadata": {
        "id": "D_mz2nu9n2-2"
      },
      "execution_count": 9,
      "outputs": []
    },
    {
      "cell_type": "code",
      "source": [
        "df.show()"
      ],
      "metadata": {
        "colab": {
          "base_uri": "https://localhost:8080/"
        },
        "id": "18w4GA5J_a4S",
        "outputId": "1dfb3c2c-8518-4013-befb-290bcf80b9f7"
      },
      "execution_count": 10,
      "outputs": [
        {
          "output_type": "stream",
          "name": "stdout",
          "text": [
            "+-------+----+------------+-------+--------------------+--------------+------+--------------+----+-------+-------+-----+-----+---------+-------+----+------+----+----+-------+------------+----------+------------+-------------+-------------+---------+---------+----------+-------------+--------------+-------+--------+------+---------+----------+----+--------------------+-------+--------------------+--------------------+-----------+--------+----------+-----------+-------+---------+--------+-------+------+------+---------+----------------+--------------------+-----------+-------+---------+-----+\n",
            "|p_match|inns|         bat|  p_bat|            team_bat|          bowl|p_bowl|     team_bowl|ball|ball_id|outcome|score|  out|dismissal|  p_out|over|noball|wide|byes|legbyes|cur_bat_runs|cur_bat_bf|cur_bowl_ovr|cur_bowl_wkts|cur_bowl_runs|inns_runs|inns_wkts|inns_balls|inns_runs_rem|inns_balls_rem|inns_rr|inns_rrr|target|max_balls|      date|year|              ground|country|              winner|                toss|competition|bat_hand|bowl_style|  bowl_kind|batruns|ballfaced|bowlruns|bat_out|wagonX|wagonY|wagonZone|            line|              length|       shot|control|predscore|wprob|\n",
            "+-------+----+------------+-------+--------------------+--------------+------+--------------+----+-------+-------+-----+-----+---------+-------+----+------+----+----+-------+------------+----------+------------+-------------+-------------+---------+---------+----------+-------------+--------------+-------+--------+------+---------+----------+----+--------------------+-------+--------------------+--------------------+-----------+--------+----------+-----------+-------+---------+--------+-------+------+------+---------+----------------+--------------------+-----------+-------+---------+-----+\n",
            "|1178422|   1|Shubman Gill|1070173|Kolkata Knight Ri...|Lasith Malinga| 49758|Mumbai Indians|   1|   2.01|    run|    1|false|     NULL|1070173|   3|     0|   0|   0|      0|          16|         8|         0.1|            0|            1|       17|        0|        13|         NULL|           107|   7.84|    NULL|  NULL|      120|2019-04-28|2019|Eden Gardens, Kol...|  India|Kolkata Knight Ri...|      Mumbai Indians|        IPL|     RHB|        RF|pace bowler|      1|        1|       1|   true|   202|   219|        4|OUTSIDE_OFFSTUMP|                FULL|       PUSH|    1.0|      165|46.47|\n",
            "|1178422|   1|Shubman Gill|1070173|Kolkata Knight Ri...|Lasith Malinga| 49758|Mumbai Indians|   4|   2.04| no run|    0|false|     NULL|1070173|   3|     0|   0|   0|      0|          16|         9|         0.4|            0|            2|       18|        0|        16|         NULL|           104|   6.75|    NULL|  NULL|      120|2019-04-28|2019|Eden Gardens, Kol...|  India|Kolkata Knight Ri...|      Mumbai Indians|        IPL|     RHB|        RF|pace bowler|      0|        1|       0|   true|   154|   224|        5|OUTSIDE_OFFSTUMP|                FULL|   ON_DRIVE|    1.0|      162|43.17|\n",
            "|1178422|   1|Shubman Gill|1070173|Kolkata Knight Ri...|Lasith Malinga| 49758|Mumbai Indians|   5|   2.05| no run|    0|false|     NULL|1070173|   3|     0|   0|   0|      0|          16|        10|         0.5|            0|            2|       18|        0|        17|         NULL|           103|   6.35|    NULL|  NULL|      120|2019-04-28|2019|Eden Gardens, Kol...|  India|Kolkata Knight Ri...|      Mumbai Indians|        IPL|     RHB|        RF|pace bowler|      0|        1|       0|   true|   221|   193|        3|   ON_THE_STUMPS|         GOOD_LENGTH|      FLICK|    1.0|      160|41.01|\n",
            "|1178422|   1|Shubman Gill|1070173|Kolkata Knight Ri...|Lasith Malinga| 49758|Mumbai Indians|   6|   2.06|    run|    1|false|     NULL|1070173|   3|     0|   0|   0|      0|          17|        11|         1.0|            0|            3|       19|        0|        18|         NULL|           102|   6.33|    NULL|  NULL|      120|2019-04-28|2019|Eden Gardens, Kol...|  India|Kolkata Knight Ri...|      Mumbai Indians|        IPL|     RHB|        RF|pace bowler|      1|        1|       1|   true|   136|   209|        5|OUTSIDE_OFFSTUMP|                FULL|COVER_DRIVE|    1.0|      159|39.94|\n",
            "|1178422|   1|Shubman Gill|1070173|Kolkata Knight Ri...|Lasith Malinga| 49758|Mumbai Indians|   1|   5.01|    run|    1|false|     NULL|1070173|   6|     0|   0|   0|      0|          22|        16|         1.1|            0|            4|       40|        0|        31|         NULL|            89|   7.74|    NULL|  NULL|      120|2019-04-28|2019|Eden Gardens, Kol...|  India|Kolkata Knight Ri...|      Mumbai Indians|        IPL|     RHB|        RF|pace bowler|      1|        1|       1|   true|   324|   135|        2|   ON_THE_STUMPS|         GOOD_LENGTH|      FLICK|    1.0|      166|47.58|\n",
            "|1178422|   1|Shubman Gill|1070173|Kolkata Knight Ri...|Lasith Malinga| 49758|Mumbai Indians|   4|   5.04|   four|    4|false|     NULL|1070173|   6|     0|   0|   0|      0|          26|        17|         1.4|            0|            9|       45|        0|        34|         NULL|            86|   7.94|    NULL|  NULL|      120|2019-04-28|2019|Eden Gardens, Kol...|  India|Kolkata Knight Ri...|      Mumbai Indians|        IPL|     RHB|        RF|pace bowler|      4|        1|       4|   true|   360|   109|        2|   ON_THE_STUMPS|           FULL_TOSS|      FLICK|    1.0|      167|48.69|\n",
            "|1178422|   1|Shubman Gill|1070173|Kolkata Knight Ri...|Lasith Malinga| 49758|Mumbai Indians|   5|   5.05|    run|    1|false|     NULL|1070173|   6|     0|   0|   0|      0|          27|        18|         1.5|            0|           10|       46|        0|        35|         NULL|            85|   7.88|    NULL|  NULL|      120|2019-04-28|2019|Eden Gardens, Kol...|  India|Kolkata Knight Ri...|      Mumbai Indians|        IPL|     RHB|        RF|pace bowler|      1|        1|       1|   true|   125|   141|        7|OUTSIDE_OFFSTUMP|         GOOD_LENGTH|        DAB|    1.0|      167|48.69|\n",
            "|1178422|   1|Shubman Gill|1070173|Kolkata Knight Ri...|Lasith Malinga| 49758|Mumbai Indians|   1|  14.01|   four|    4|false|     NULL|1070173|  15|     0|   0|   0|      0|          71|        42|         2.1|            0|           18|      147|        1|        85|         NULL|            35|  10.37|    NULL|  NULL|      120|2019-04-28|2019|Eden Gardens, Kol...|  India|Kolkata Knight Ri...|      Mumbai Indians|        IPL|     RHB|        RF|pace bowler|      4|        1|       4|   true|   118|   350|        5|OUTSIDE_OFFSTUMP|         GOOD_LENGTH|   ON_DRIVE|    1.0|      205|83.77|\n",
            "|1178422|   1|Shubman Gill|1070173|Kolkata Knight Ri...|Lasith Malinga| 49758|Mumbai Indians|   2|  14.02|   four|    4|false|     NULL|1070173|  15|     0|   0|   0|      0|          75|        43|         2.2|            0|           22|      151|        1|        86|         NULL|            34|  10.53|    NULL|  NULL|      120|2019-04-28|2019|Eden Gardens, Kol...|  India|Kolkata Knight Ri...|      Mumbai Indians|        IPL|     RHB|        RF|pace bowler|      4|        1|       4|   true|   241|    14|        1|   ON_THE_STUMPS|                FULL| LEG_GLANCE|    1.0|      208|85.49|\n",
            "|1178422|   1|Shubman Gill|1070173|Kolkata Knight Ri...|Lasith Malinga| 49758|Mumbai Indians|   3|  14.03|    run|    1|false|     NULL|1070173|  15|     0|   0|   0|      0|          76|        44|         2.3|            0|           23|      152|        1|        87|         NULL|            33|  10.48|    NULL|  NULL|      120|2019-04-28|2019|Eden Gardens, Kol...|  India|Kolkata Knight Ri...|      Mumbai Indians|        IPL|     RHB|        RF|pace bowler|      1|        1|       1|   true|   298|   247|        3|   ON_THE_STUMPS|                FULL|      FLICK|    1.0|      207|84.94|\n",
            "|1178431|   1|Shubman Gill|1070173|Kolkata Knight Ri...|Lasith Malinga| 49758|Mumbai Indians|   1|   3.01|    run|    2|false|     NULL|1070173|   4|     0|   0|   0|      0|           7|        10|         0.1|            0|            2|       17|        0|        19|         NULL|           101|   5.36|    NULL|  NULL|      120|2019-05-05|2019|Wankhede Stadium,...|  India|      Mumbai Indians|      Mumbai Indians|        IPL|     RHB|        RF|pace bowler|      2|        1|       2|   true|   308|    89|        2|OUTSIDE_OFFSTUMP|SHORT_OF_A_GOOD_L...|       PULL|    1.0|      159|39.88|\n",
            "|1178431|   1|Shubman Gill|1070173|Kolkata Knight Ri...|Lasith Malinga| 49758|Mumbai Indians|   2|   3.02|    run|    1|false|     NULL|1070173|   4|     0|   0|   0|      0|           8|        11|         0.2|            0|            3|       18|        0|        20|         NULL|           100|    5.4|    NULL|  NULL|      120|2019-05-05|2019|Wankhede Stadium,...|  India|      Mumbai Indians|      Mumbai Indians|        IPL|     RHB|        RF|pace bowler|      1|        1|       1|   true|   283|   246|        3|OUTSIDE_OFFSTUMP|                FULL|      FLICK|    1.0|      159|39.88|\n",
            "|1136578|   1|Shubman Gill|1070173|Kolkata Knight Ri...|    Andrew Tye|459508|  Punjab Kings|   5|  19.05|    run|    1|false|     NULL|1070173|  20|     0|   0|   0|      0|          13|         7|         3.4|            2|           28|      189|        7|       118|         NULL|             0|   9.61|    NULL|  NULL|        0|2018-04-21|2018|Eden Gardens, Kol...|  India|     Kings XI Punjab|     Kings XI Punjab|        IPL|     RHB|       RMF|pace bowler|      1|        1|       1|   true|   224|   311|        4|   ON_THE_STUMPS|                FULL|   ON_DRIVE|    1.0|      193|78.36|\n",
            "|1136578|   1|Shubman Gill|1070173|Kolkata Knight Ri...|    Andrew Tye|459508|  Punjab Kings|   7|  19.07|    run|    1|false|     NULL|1070173|  20|     0|   0|   0|      0|          14|         8|         4.0|            2|           30|      191|        7|       120|         NULL|             0|   9.55|    NULL|  NULL|        0|2018-04-21|2018|Eden Gardens, Kol...|  India|     Kings XI Punjab|     Kings XI Punjab|        IPL|     RHB|       RMF|pace bowler|      1|        1|       1|   true|   124|   197|        6|   ON_THE_STUMPS|         GOOD_LENGTH|COVER_DRIVE|    1.0|      191|76.76|\n",
            "|1136604|   1|Shubman Gill|1070173|Kolkata Knight Ri...|    Andrew Tye|459508|  Punjab Kings|   1|  18.01|   four|    4|false|     NULL|1070173|  19|     0|   0|   0|      0|           4|         1|         3.1|            4|           38|      226|        5|       109|         NULL|            11|  12.44|    NULL|  NULL|      120|2018-05-12|2018|Holkar Cricket St...|  India|Kolkata Knight Ri...|     Kings XI Punjab|        IPL|     RHB|       RMF|pace bowler|      4|        1|       4|   true|   104|    15|        8|   ON_THE_STUMPS|         GOOD_LENGTH|   ON_DRIVE|    0.0|      247|97.44|\n",
            "|1136604|   1|Shubman Gill|1070173|Kolkata Knight Ri...|    Andrew Tye|459508|  Punjab Kings|   2|  18.02| no run|    0|false|     NULL|1070173|  19|     0|   0|   0|      0|           4|         2|         3.2|            4|           38|      226|        5|       110|         NULL|            10|  12.32|    NULL|  NULL|      120|2018-05-12|2018|Holkar Cricket St...|  India|Kolkata Knight Ri...|     Kings XI Punjab|        IPL|     RHB|       RMF|pace bowler|      0|        1|       0|   true|   172|   192|        5|   ON_THE_STUMPS|         GOOD_LENGTH|   DEFENDED|    1.0|      246|97.33|\n",
            "|1136604|   1|Shubman Gill|1070173|Kolkata Knight Ri...|    Andrew Tye|459508|  Punjab Kings|   3|  18.03|    run|    1|false|     NULL|1070173|  19|     0|   0|   0|      0|           5|         3|         3.3|            4|           39|      227|        5|       111|         NULL|             9|  12.27|    NULL|  NULL|      120|2018-05-12|2018|Holkar Cricket St...|  India|Kolkata Knight Ri...|     Kings XI Punjab|        IPL|     RHB|       RMF|pace bowler|      1|        1|       1|   true|   234|   276|        4|   ON_THE_STUMPS|           FULL_TOSS|   ON_DRIVE|    1.0|      245|97.21|\n",
            "|1136604|   1|Shubman Gill|1070173|Kolkata Knight Ri...|    Andrew Tye|459508|  Punjab Kings|   6|  18.06|    run|    1|false|     NULL|1070173|  19|     0|   0|   0|      0|           6|         4|         4.0|            4|           41|      229|        5|       114|         NULL|             6|  12.05|    NULL|  NULL|      120|2018-05-12|2018|Holkar Cricket St...|  India|Kolkata Knight Ri...|     Kings XI Punjab|        IPL|     RHB|       RMF|pace bowler|      1|        1|       1|   true|   124|   230|        5|OUTSIDE_OFFSTUMP|           FULL_TOSS|COVER_DRIVE|    1.0|      241|96.69|\n",
            "|1178427|   2|Shubman Gill|1070173|Kolkata Knight Ri...|    Andrew Tye|459508|  Punjab Kings|   1|   5.01|   four|    4|false|     NULL|1070173|   6|     0|   0|   0|      0|          14|        12|         0.1|            0|            4|       51|        0|        31|        133.0|            89|   9.87|    8.96| 184.0|      120|2019-05-03|2019|Punjab Cricket As...|  India|Kolkata Knight Ri...|Kolkata Knight Ri...|        IPL|     RHB|       RMF|pace bowler|      4|        1|       4|   true|   322|    67|        2|   ON_THE_STUMPS|SHORT_OF_A_GOOD_L...|      FLICK|    1.0|      184|55.18|\n",
            "|1178427|   2|Shubman Gill|1070173|Kolkata Knight Ri...|    Andrew Tye|459508|  Punjab Kings|   2|   5.02| no run|    0|false|     NULL|1070173|   6|     0|   0|   0|      0|          14|        13|         0.2|            0|            4|       51|        0|        32|        133.0|            88|   9.56|    9.06| 184.0|      120|2019-05-03|2019|Punjab Cricket As...|  India|Kolkata Knight Ri...|Kolkata Knight Ri...|        IPL|     RHB|       RMF|pace bowler|      0|        1|       0|   true|   138|   147|        7|OUTSIDE_OFFSTUMP|         GOOD_LENGTH|    STEERED|    1.0|      184| 54.5|\n",
            "+-------+----+------------+-------+--------------------+--------------+------+--------------+----+-------+-------+-----+-----+---------+-------+----+------+----+----+-------+------------+----------+------------+-------------+-------------+---------+---------+----------+-------------+--------------+-------+--------+------+---------+----------+----+--------------------+-------+--------------------+--------------------+-----------+--------+----------+-----------+-------+---------+--------+-------+------+------+---------+----------------+--------------------+-----------+-------+---------+-----+\n",
            "only showing top 20 rows\n",
            "\n"
          ]
        }
      ]
    },
    {
      "cell_type": "code",
      "source": [],
      "metadata": {
        "id": "Ho45Ikca_db5"
      },
      "execution_count": null,
      "outputs": []
    }
  ]
}